{
 "cells": [
  {
   "cell_type": "markdown",
   "metadata": {},
   "source": [
    "# Local Demo "
   ]
  },
  {
   "cell_type": "code",
   "execution_count": 1,
   "metadata": {},
   "outputs": [],
   "source": [
    "# Imports \n",
    "import os\n",
    "import pandas as pd\n",
    "import numpy as np\n",
    "import pickle\n",
    "import warnings\n",
    "\n",
    "# Ignore Warnings\n",
    "warnings.simplefilter(\"ignore\")\n",
    "\n",
    "# Paths to various files\n",
    "filepath = '../files/review_final.pkl'\n",
    "hotel_filepath = '../files/hotel_info.pkl'\n",
    "hotel_model = '../files/hotel.sav'\n",
    "review_model = '../files/review.sav'\n",
    "\n",
    "# Reading in all of the files\n",
    "df = pd.read_pickle(filepath)\n",
    "hotel_info = pd.read_pickle(hotel_filepath)\n",
    "hotel = pickle.load(open(hotel_model, 'rb'))\n",
    "review = pickle.load(open(review_model, 'rb'))\n",
    "ss = pickle.load(open('../files/quant_scaled.sav','rb'))\n",
    "vectorizer = pickle.load(open('../files/vectorizer.pkl','rb'))\n",
    "\n",
    "# Will create dictionary to store all values for demo\n",
    "demo = {}\n",
    "\n",
    "# Removing useless column\n",
    "df.drop(['review_trans'], axis = 1, inplace = True)\n",
    "\n",
    "# Matching hotel info table with the unique hotels available in our review dataset  \n",
    "hotel_info = hotel_info.merge(pd.DataFrame(df['hotel_name'].unique(), \n",
    "                                           columns=['hotel_name']), how = 'right', on= 'hotel_name')\n",
    "# Forgot to unpack predictions from modeling stage, doing it here\n",
    "df['review_preds'] = df['review_preds'].apply(lambda x: int(x[0]))"
   ]
  },
  {
   "cell_type": "code",
   "execution_count": 2,
   "metadata": {},
   "outputs": [],
   "source": [
    "# Iterate through all the amenities. If 70% or 30% hotel either have or don't have the amenities respectfully,\n",
    "# I defaulted the value to either true or false \n",
    "\n",
    "for i in hotel_info.dtypes[hotel_info.dtypes == 'bool'].index: \n",
    "    if int(sum(hotel_info[i])/len(hotel_info)*100) >= 70:\n",
    "        #print(i, sum(hotel_info[i]))\n",
    "        demo[i] = True\n",
    "    elif int(sum(hotel_info[i])/len(hotel_info)*100) <= 30:\n",
    "        #print(i, sum(hotel_info[i]))\n",
    "        demo[i] = False\n"
   ]
  },
  {
   "cell_type": "code",
   "execution_count": 3,
   "metadata": {},
   "outputs": [
    {
     "name": "stdout",
     "output_type": "stream",
     "text": [
      "Pick Your Prefrence: \n",
      "Amenities\n",
      "Would you like Banquet Room? (T/F) t\n",
      "Would you like Bar/Lounge? (T/F) f\n",
      "Would you like Breakfast Available? (T/F) t\n",
      "Would you like Breakfast included? (T/F) t\n",
      "Would you like Conference Facilities? (T/F) f\n",
      "Would you like Family Rooms? (T/F) f\n",
      "Would you like Free parking? (T/F) t\n",
      "Would you like Microwave? (T/F) t\n",
      "Would you like Outdoor pool? (T/F) f\n",
      "Would you like Pets Allowed ( Dog / Pet Friendly )? (T/F) f\n",
      "Would you like Pool? (T/F) t\n",
      "Would you like Public Wifi? (T/F) f\n",
      "Would you like Refrigerator in room? (T/F) f\n",
      "Would you like Restaurant? (T/F) t\n",
      "Would you like Room service? (T/F) f\n",
      "Would you like Self-Serve Laundry? (T/F) f\n",
      "****************************************************************\n",
      "Pick your Hotel Size:\n",
      "Hotel Size? (Large, Medium, Small): Large\n",
      "****************************************************************\n",
      "Pick Quality of Hotel (Based on TripAdvisor): \n",
      "Quality of hotel? (Great, Good, OK): Great\n"
     ]
    }
   ],
   "source": [
    "# Start of the demo\n",
    "print(\"Pick Your Prefrence: \\nAmenities\")\n",
    "# For all other amenities that weren't defaulted, user will be prompted for response on amenities \n",
    "for i in hotel_info.dtypes[hotel_info.dtypes == 'bool'].index: \n",
    "    if int(sum(hotel_info[i])/len(hotel_info)*100) < 70 and int(\n",
    "        sum(hotel_info[i])/len(hotel_info)*100) > 30:\n",
    "        prompt = \"Would you like \" + i +\"? (T/F) \"\n",
    "        while True:\n",
    "            ans = input(prompt)\n",
    "            if ans.lower == 'true' or ans.lower() == 't':\n",
    "                demo[i] = True\n",
    "                break\n",
    "            elif ans.lower =='false' or ans.lower() == 'f': \n",
    "                demo[i] = False\n",
    "                break\n",
    "            else: print(\"Enter T/F\")\n",
    "# Added all the # of amenities that are true \n",
    "demo['num_amenities'] = sum(demo.values())\n",
    "print(\"*\"*64)\n",
    "# Prompted for hotel size, which is equated to number of rooms. Created 3 bins based on 25, 50, and 75% quartiles\n",
    "print(\"Pick your Hotel Size:\")\n",
    "while True:\n",
    "    num_rooms = input(\"Hotel Size? (Large, Medium, Small): \")\n",
    "    if num_rooms.lower() == 'large': \n",
    "        demo['num_rooms']  = 243.50\n",
    "        break\n",
    "    elif num_rooms.lower() == 'medium':\n",
    "        demo['num_rooms']  = 147.70\n",
    "        break\n",
    "    elif num_rooms.lower() == 'small': \n",
    "        demo['num_rooms']  = 100\n",
    "        break\n",
    "    else: print(\"Enter Large, Medium, or Small\")\n",
    "print(\"*\"*64)\n",
    "# Prompted for hotel quality, equated to hotel overall rating. Created 3 bins based on 50, 75, and 100% quartile\n",
    "print(\"Pick Quality of Hotel (Based on TripAdvisor): \")\n",
    "while True:\n",
    "    quality = input(\"Quality of hotel? (Great, Good, OK): \")\n",
    "    if quality.lower() == 'great':\n",
    "        demo['hotel_rating_hotel'] = 5\n",
    "        break\n",
    "    elif quality.lower() == 'good':\n",
    "        demo['hotel_rating_hotel'] = 4 \n",
    "        break\n",
    "    elif quality.lower() == 'ok': \n",
    "        demo['hotel_rating_hotel'] = 3.5\n",
    "        break\n",
    "    else: print(\"Enter Great, Good, or OK\")"
   ]
  },
  {
   "cell_type": "code",
   "execution_count": 4,
   "metadata": {},
   "outputs": [],
   "source": [
    "# Need to arrange the columns the same was as when trained \n",
    "df_quant_cols = ['num_amenities', 'num_rooms', 'hotel_rating_hotel', 'Accessible rooms',\n",
    "       'Air conditioning', 'Airport transportation', 'Babysitting',\n",
    "       'Banquet Room', 'Bar/Lounge', 'Breakfast Available',\n",
    "       'Breakfast included', 'Business Center with Internet Access',\n",
    "       'Children Activities (Kid / Family Friendly)', 'Concierge',\n",
    "       'Conference Facilities', 'Dry Cleaning',\n",
    "       'Electric vehicle charging station', 'Family Rooms',\n",
    "       'Fitness Center with Gym / Workout Room',\n",
    "       'Free High Speed Internet (WiFi)', 'Free Internet', 'Free parking',\n",
    "       'Golf course', 'Heated pool', 'Hot Tub', 'Indoor pool', 'Kitchenette',\n",
    "       'Laundry Service', 'Meeting rooms', 'Microwave', 'Minibar',\n",
    "       'Multilingual Staff', 'Non-smoking hotel', 'Non-smoking rooms',\n",
    "       'Outdoor pool', 'Paid Internet', 'Paid Wifi',\n",
    "       'Pets Allowed ( Dog / Pet Friendly )', 'Pool', 'Public Wifi',\n",
    "       'Refrigerator in room', 'Restaurant', 'Room service', 'Sauna',\n",
    "       'Self-Serve Laundry', 'Shuttle Bus Service', 'Smoking rooms available',\n",
    "       'Spa', 'Suites', 'Tennis Court', 'Wheelchair access']\n",
    "to_pred = pd.DataFrame.from_dict(demo, orient= 'index').transpose()[df_quant_cols]"
   ]
  },
  {
   "cell_type": "code",
   "execution_count": 5,
   "metadata": {},
   "outputs": [],
   "source": [
    "# Scale the same as when trained\n",
    "to_pred = pd.DataFrame(ss.transform(to_pred),index = to_pred.index, columns = to_pred.columns)"
   ]
  },
  {
   "cell_type": "code",
   "execution_count": 6,
   "metadata": {},
   "outputs": [
    {
     "name": "stdout",
     "output_type": "stream",
     "text": [
      "Hotel Based on Preferences\n",
      "SpringHill Suites Atlanta Downtown\n",
      "Price from $147 to $349\n",
      "To know more:  https://www.tripadvisor.com/Hotel_Review-g60898-d13451617-Reviews-SpringHill_Suites_Atlanta_Downtown-Atlanta_Georgia.html\n",
      "Fairfield Inn & Suites Atlanta Downtown\n",
      "Price from $174 to $270\n",
      "To know more:  https://www.tripadvisor.com/Hotel_Review-g60898-d605130-Reviews-Fairfield_Inn_Suites_Atlanta_Downtown-Atlanta_Georgia.html\n",
      "La Quinta by Wyndham Atlanta Midtown - Buckhead\n",
      "Price from $119 to $203\n",
      "To know more:  https://www.tripadvisor.com/Hotel_Review-g60898-d111330-Reviews-La_Quinta_by_Wyndham_Atlanta_Midtown_Buckhead-Atlanta_Georgia.html\n",
      "Hampton Inn & Suites Atlanta - Downtown\n",
      "Price from $144 to $362\n",
      "To know more:  https://www.tripadvisor.com/Hotel_Review-g60898-d89508-Reviews-Hampton_Inn_Suites_Atlanta_Downtown-Atlanta_Georgia.html\n",
      "Residence Inn Atlanta Midtown/Peachtree at 17th\n",
      "Price from $147 to $375\n",
      "To know more:  https://www.tripadvisor.com/Hotel_Review-g60898-d223855-Reviews-Residence_Inn_Atlanta_Midtown_Peachtree_at_17th-Atlanta_Georgia.html\n",
      "Holiday Inn Express & Suites Atlanta Downtown\n",
      "Price from $160 to $336\n",
      "To know more:  https://www.tripadvisor.com/Hotel_Review-g60898-d89527-Reviews-Holiday_Inn_Express_Suites_Atlanta_Downtown-Atlanta_Georgia.html\n",
      "Hampton Inn Atlanta-Georgia Tech-Downtown\n",
      "Price from $157 to $286\n",
      "To know more:  https://www.tripadvisor.com/Hotel_Review-g60898-d737413-Reviews-Hampton_Inn_Atlanta_Georgia_Tech_Downtown-Atlanta_Georgia.html\n",
      "Residence Inn Atlanta Downtown\n",
      "Price from $160 to $392\n",
      "To know more:  https://www.tripadvisor.com/Hotel_Review-g60898-d89475-Reviews-Residence_Inn_Atlanta_Downtown-Atlanta_Georgia.html\n"
     ]
    }
   ],
   "source": [
    "print(\"Hotel Based on Preferences\")\n",
    "# Predicts the cluster\n",
    "hotel_predict = hotel.predict(to_pred)[0]\n",
    "# Find all hotels in the same cluster as prediction and print name, url, low price, and high price\n",
    "for x in df[df['hotel_pred'] == hotel_predict]['hotel_name'].unique():\n",
    "    url = hotel_info[hotel_info['hotel_name'] == x]['url'].values[0]\n",
    "    low =  \"$\"+str(hotel_info[hotel_info['hotel_name'] == x]['low_price'].values[0])[:-2]\n",
    "    high =  \"$\"+str(hotel_info[hotel_info['hotel_name'] == x]['high_price'].values[0])[:-2]\n",
    "    print(x)\n",
    "    print(\"Price from \"+low+\" to \" + high)\n",
    "    print(\"To know more: \", url)"
   ]
  },
  {
   "cell_type": "code",
   "execution_count": 7,
   "metadata": {},
   "outputs": [
    {
     "name": "stdout",
     "output_type": "stream",
     "text": [
      "What was your best review?: Many other hotels did not provide the same type of service as this one did. Not only did I have a great time, but my family made many memories that we will never forget.\n"
     ]
    }
   ],
   "source": [
    "# Now will prompt for a representative review and find all reviews that match the same cluster\n",
    "review_input = input(\"What was your best review?: \")\n",
    "review_predict = review.predict(vectorizer.transform([review_input]).todense())[0]\n",
    "review_predict_df = df[df['review_preds']== review_predict].groupby('hotel_name').agg('count')['review'].reset_index()\n"
   ]
  },
  {
   "cell_type": "code",
   "execution_count": 8,
   "metadata": {
    "scrolled": true
   },
   "outputs": [
    {
     "name": "stdout",
     "output_type": "stream",
     "text": [
      "Top 10 Hotels with the most amount of similar reviews\n"
     ]
    },
    {
     "data": {
      "text/html": [
       "<div>\n",
       "<style scoped>\n",
       "    .dataframe tbody tr th:only-of-type {\n",
       "        vertical-align: middle;\n",
       "    }\n",
       "\n",
       "    .dataframe tbody tr th {\n",
       "        vertical-align: top;\n",
       "    }\n",
       "\n",
       "    .dataframe thead th {\n",
       "        text-align: right;\n",
       "    }\n",
       "</style>\n",
       "<table border=\"1\" class=\"dataframe\">\n",
       "  <thead>\n",
       "    <tr style=\"text-align: right;\">\n",
       "      <th></th>\n",
       "      <th>hotel_name</th>\n",
       "      <th>Percent</th>\n",
       "    </tr>\n",
       "  </thead>\n",
       "  <tbody>\n",
       "    <tr>\n",
       "      <th>11</th>\n",
       "      <td>Cheshire Motor Inn</td>\n",
       "      <td>0.017544</td>\n",
       "    </tr>\n",
       "    <tr>\n",
       "      <th>88</th>\n",
       "      <td>Residence Inn Atlanta Midtown/Georgia Tech</td>\n",
       "      <td>0.015504</td>\n",
       "    </tr>\n",
       "    <tr>\n",
       "      <th>10</th>\n",
       "      <td>Budgetel Savannah</td>\n",
       "      <td>0.014599</td>\n",
       "    </tr>\n",
       "    <tr>\n",
       "      <th>99</th>\n",
       "      <td>The Westin Atlanta Airport</td>\n",
       "      <td>0.010870</td>\n",
       "    </tr>\n",
       "    <tr>\n",
       "      <th>60</th>\n",
       "      <td>Home2 Suites by Hilton Atlanta Downtown</td>\n",
       "      <td>0.010246</td>\n",
       "    </tr>\n",
       "    <tr>\n",
       "      <th>102</th>\n",
       "      <td>The Whitley, a Luxury Collection Hotel, Atlant...</td>\n",
       "      <td>0.010194</td>\n",
       "    </tr>\n",
       "    <tr>\n",
       "      <th>94</th>\n",
       "      <td>Stonehurst Place</td>\n",
       "      <td>0.010163</td>\n",
       "    </tr>\n",
       "    <tr>\n",
       "      <th>34</th>\n",
       "      <td>Extended Stay America - Atlanta - Vinings</td>\n",
       "      <td>0.010000</td>\n",
       "    </tr>\n",
       "    <tr>\n",
       "      <th>98</th>\n",
       "      <td>The University Inn at Emory</td>\n",
       "      <td>0.009346</td>\n",
       "    </tr>\n",
       "    <tr>\n",
       "      <th>45</th>\n",
       "      <td>Hampton Inn &amp; Suites Atlanta Buckhead Place</td>\n",
       "      <td>0.009174</td>\n",
       "    </tr>\n",
       "  </tbody>\n",
       "</table>\n",
       "</div>"
      ],
      "text/plain": [
       "                                            hotel_name   Percent\n",
       "11                                  Cheshire Motor Inn  0.017544\n",
       "88          Residence Inn Atlanta Midtown/Georgia Tech  0.015504\n",
       "10                                   Budgetel Savannah  0.014599\n",
       "99                          The Westin Atlanta Airport  0.010870\n",
       "60             Home2 Suites by Hilton Atlanta Downtown  0.010246\n",
       "102  The Whitley, a Luxury Collection Hotel, Atlant...  0.010194\n",
       "94                                    Stonehurst Place  0.010163\n",
       "34           Extended Stay America - Atlanta - Vinings  0.010000\n",
       "98                         The University Inn at Emory  0.009346\n",
       "45         Hampton Inn & Suites Atlanta Buckhead Place  0.009174"
      ]
     },
     "execution_count": 8,
     "metadata": {},
     "output_type": "execute_result"
    }
   ],
   "source": [
    "# Grouped by hotel name and aggregated by count, then divided by total # of reviews for that hotel to get % \n",
    "# Sorted by Percent and then printed only the top 10 \n",
    "print(\"Top 10 Hotels with the most amount of similar reviews\")\n",
    "review_predict_df = review_predict_df.merge(df.groupby('hotel_name').agg('count')['url_x'].reset_index(), on = 'hotel_name', how = 'left') \n",
    "review_predict_df['Percent'] = review_predict_df['review']/review_predict_df['url_x']\n",
    "review_predict_df[['hotel_name','Percent']].sort_values(by = 'Percent', ascending=False).head(10)\n"
   ]
  },
  {
   "cell_type": "code",
   "execution_count": 9,
   "metadata": {},
   "outputs": [
    {
     "name": "stdout",
     "output_type": "stream",
     "text": [
      "Fairfield Inn & Suites Atlanta Downtown\n",
      "Price from $174 to $270\n",
      "To know more:  https://www.tripadvisor.com/Hotel_Review-g60898-d605130-Reviews-Fairfield_Inn_Suites_Atlanta_Downtown-Atlanta_Georgia.html\n",
      "La Quinta by Wyndham Atlanta Midtown - Buckhead\n",
      "Price from $119 to $203\n",
      "To know more:  https://www.tripadvisor.com/Hotel_Review-g60898-d111330-Reviews-La_Quinta_by_Wyndham_Atlanta_Midtown_Buckhead-Atlanta_Georgia.html\n",
      "Hampton Inn & Suites Atlanta - Downtown\n",
      "Price from $144 to $362\n",
      "To know more:  https://www.tripadvisor.com/Hotel_Review-g60898-d89508-Reviews-Hampton_Inn_Suites_Atlanta_Downtown-Atlanta_Georgia.html\n",
      "Residence Inn Atlanta Midtown/Peachtree at 17th\n",
      "Price from $147 to $375\n",
      "To know more:  https://www.tripadvisor.com/Hotel_Review-g60898-d223855-Reviews-Residence_Inn_Atlanta_Midtown_Peachtree_at_17th-Atlanta_Georgia.html\n",
      "Holiday Inn Express & Suites Atlanta Downtown\n",
      "Price from $160 to $336\n",
      "To know more:  https://www.tripadvisor.com/Hotel_Review-g60898-d89527-Reviews-Holiday_Inn_Express_Suites_Atlanta_Downtown-Atlanta_Georgia.html\n",
      "Hampton Inn Atlanta-Georgia Tech-Downtown\n",
      "Price from $157 to $286\n",
      "To know more:  https://www.tripadvisor.com/Hotel_Review-g60898-d737413-Reviews-Hampton_Inn_Atlanta_Georgia_Tech_Downtown-Atlanta_Georgia.html\n"
     ]
    }
   ],
   "source": [
    "# Looks for all hotels that are in both the review and hotel clusters \n",
    "for x in df[(df['hotel_pred'] == hotel_predict) & (df['review_preds'] == review_predict)]['hotel_name'].unique():\n",
    "    url = hotel_info[hotel_info['hotel_name'] == x]['url'].values[0]\n",
    "    low =  \"$\"+str(hotel_info[hotel_info['hotel_name'] == x]['low_price'].values[0])[:-2]\n",
    "    high =  \"$\"+str(hotel_info[hotel_info['hotel_name'] == x]['high_price'].values[0])[:-2]\n",
    "    print(x)\n",
    "    print(\"Price from \"+low+\" to \" + high)\n",
    "    print(\"To know more: \", url)"
   ]
  }
 ],
 "metadata": {
  "kernelspec": {
   "display_name": "Python 3",
   "language": "python",
   "name": "python3"
  },
  "language_info": {
   "codemirror_mode": {
    "name": "ipython",
    "version": 3
   },
   "file_extension": ".py",
   "mimetype": "text/x-python",
   "name": "python",
   "nbconvert_exporter": "python",
   "pygments_lexer": "ipython3",
   "version": "3.7.3"
  }
 },
 "nbformat": 4,
 "nbformat_minor": 2
}
