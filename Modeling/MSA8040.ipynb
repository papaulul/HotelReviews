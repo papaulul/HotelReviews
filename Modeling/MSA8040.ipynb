{
 "cells": [
  {
   "cell_type": "markdown",
   "metadata": {},
   "source": [
    "# MSA 8040 Final Project "
   ]
  },
  {
   "cell_type": "code",
   "execution_count": 1,
   "metadata": {},
   "outputs": [
    {
     "name": "stdout",
     "output_type": "stream",
     "text": [
      "Mongo version 3.7.2\n",
      "[nltk_data] Downloading package stopwords to\n",
      "[nltk_data]     C:\\Users\\Paul\\AppData\\Roaming\\nltk_data...\n",
      "[nltk_data]   Package stopwords is already up-to-date!\n"
     ]
    }
   ],
   "source": [
    "# Imports and PyMongo Setup \n",
    "import os\n",
    "import pandas as pd\n",
    "import numpy as np\n",
    "from IPython.core.display import display, HTML\n",
    "import pymongo\n",
    "from pymongo import MongoClient\n",
    "print ('Mongo version', pymongo.__version__)\n",
    "client = MongoClient('localhost', 27017)\n",
    "db = client.reviews\n",
    "collection = db.full \n",
    "from sklearn.feature_extraction.text import CountVectorizer\n",
    "from sklearn.metrics.pairwise import euclidean_distances\n",
    "import numpy as np\n",
    "import re\n",
    "import nltk; nltk.download('stopwords')\n",
    "from nltk.corpus import stopwords\n",
    "from sklearn.cluster import KMeans\n",
    "from sklearn import metrics\n",
    "from sklearn.feature_extraction.text import TfidfVectorizer\n",
    "from sklearn.metrics import adjusted_rand_score\n",
    "import pickle\n",
    "\n"
   ]
  },
  {
   "cell_type": "code",
   "execution_count": 45,
   "metadata": {},
   "outputs": [
    {
     "name": "stdout",
     "output_type": "stream",
     "text": [
      "[nltk_data] Downloading package stopwords to /Users/Work/nltk_data...\n",
      "[nltk_data]   Package stopwords is already up-to-date!\n"
     ]
    }
   ],
   "source": [
    "# Imports without PyMongo\n",
    "import os\n",
    "import pandas as pd\n",
    "import numpy as np\n",
    "from IPython.core.display import display, HTML\n",
    "from sklearn.feature_extraction.text import CountVectorizer\n",
    "from sklearn.metrics.pairwise import euclidean_distances\n",
    "import numpy as np\n",
    "import re\n",
    "import nltk; nltk.download('stopwords')\n",
    "from nltk.corpus import stopwords\n",
    "from sklearn.cluster import KMeans\n",
    "from sklearn import metrics\n",
    "from sklearn.feature_extraction.text import TfidfVectorizer\n",
    "from sklearn.metrics import adjusted_rand_score\n",
    "import pickle\n",
    "import matplotlib.pyplot as plt\n"
   ]
  },
  {
   "cell_type": "code",
   "execution_count": 46,
   "metadata": {},
   "outputs": [],
   "source": [
    "#read df2 if not connected to MongoDB Server\n",
    "#df2 = pd.read_pickle('review_data.pkl')"
   ]
  },
  {
   "cell_type": "code",
   "execution_count": null,
   "metadata": {},
   "outputs": [],
   "source": [
    "# Reading in for MongoDB\n",
    "df2 = pd.DataFrame(columns=['_id','bubble','hotel_name','review','url'])\n",
    "res = collection.find() # return a cursor\n",
    "df2 = pd.DataFrame(list(res)) # use list to turn the cursor to an array of documents\n",
    "df2.set_index('_id')\n",
    "#Getting the pure rating \n",
    "df2['rating']=df2['bubble'].apply(lambda x: x[-2:-1] if x[-2:-1] != 'O' else -1)\n",
    "df2.head()\n",
    "#Saving Dataframe to pickle file to be read later \n",
    "df2.to_pickle('review_data.pkl')\n",
    "\n"
   ]
  },
  {
   "cell_type": "code",
   "execution_count": 47,
   "metadata": {},
   "outputs": [],
   "source": [
    "# converting column to list \n",
    "corpus = df2['review'].tolist()"
   ]
  },
  {
   "cell_type": "code",
   "execution_count": 48,
   "metadata": {},
   "outputs": [],
   "source": [
    "# Using Regular Expressions to remove \\ in the text for each review\n",
    "corpus = [re.sub('\\s+', ' ', sent) for sent in corpus]"
   ]
  },
  {
   "cell_type": "code",
   "execution_count": 49,
   "metadata": {},
   "outputs": [
    {
     "name": "stdout",
     "output_type": "stream",
     "text": [
      "[[0 0 0 ... 0 0 0]\n",
      " [0 0 0 ... 0 0 0]\n",
      " [0 0 0 ... 0 0 0]\n",
      " ...\n",
      " [0 0 0 ... 0 0 0]\n",
      " [0 0 0 ... 0 0 0]\n",
      " [0 0 0 ... 0 0 0]]\n"
     ]
    }
   ],
   "source": [
    "# Declaring Stopwords\n",
    "stop_words = stopwords.words('english')\n",
    "# Extending Stopwords to include very common words that we already know\n",
    "stop_words.extend(['hotel','atlanta'])\n",
    "\n",
    "# Initializes the preprocessing\n",
    "vectorizer = CountVectorizer(analyzer='word',       \n",
    "                             min_df=10,                        # minimum reqd occurences of a word \n",
    "                             stop_words=stop_words,             # remove stop words\n",
    "                             lowercase=True,                   # convert all words to lowercase\n",
    "                             token_pattern='[a-zA-Z0-9]{3,}',  # num chars > 3\n",
    " )\n",
    "# looking at the features \n",
    "features = vectorizer.fit_transform(corpus).todense()\n",
    "print(vectorizer.fit_transform(corpus).todense())"
   ]
  },
  {
   "cell_type": "code",
   "execution_count": null,
   "metadata": {},
   "outputs": [],
   "source": [
    "# Testing various ranges of clusters to find the elbow using inertia \n",
    "range_n_clusters= range(10,101,10)\n",
    "sse = []\n",
    "for n_clusters in range_n_clusters:\n",
    "    kmeans_model= KMeans(n_clusters).fit(features)\n",
    "    sse.append(kmeans_model.inertia_)\n",
    "    print(n_clusters)"
   ]
  },
  {
   "cell_type": "code",
   "execution_count": 65,
   "metadata": {},
   "outputs": [
    {
     "data": {
      "text/plain": [
       "Text(0.5,0.98,'How to choose the Number of clusters for KMeans')"
      ]
     },
     "execution_count": 65,
     "metadata": {},
     "output_type": "execute_result"
    },
    {
     "data": {
      "image/png": "[encoded data removed]",
      "text/plain": [
       "<Figure size 432x288 with 1 Axes>"
      ]
     },
     "metadata": {
      "needs_background": "light"
     },
     "output_type": "display_data"
    }
   ],
   "source": [
    "# Plotted from 10-100, see an elbow at 40\n",
    "import matplotlib.pyplot as plt\n",
    "from matplotlib.collections import EventCollection\n",
    "fig = plt.plot(range_n_clusters,sse,'-r')\n",
    "plt.xlabel('Number of Clusters')\n",
    "plt.ylabel('silhouette score')\n",
    "plt.suptitle('How to choose the Number of clusters for KMeans')\n"
   ]
  },
  {
   "cell_type": "code",
   "execution_count": 82,
   "metadata": {},
   "outputs": [
    {
     "name": "stdout",
     "output_type": "stream",
     "text": [
      "(3000, 1904)\n"
     ]
    }
   ],
   "source": [
    "# Now using Tf-idf for our preprocessing while also using the k-value from above \n",
    "vectorizer = TfidfVectorizer(analyzer='word',       \n",
    "                             min_df=10,                        # minimum reqd occurences of a word \n",
    "                             stop_words=stop_words,             # remove stop words\n",
    "                             lowercase=True,                   # convert all words to lowercase\n",
    "                             token_pattern='[a-zA-Z0-9]{3,}'  # num chars > 3\n",
    "                            )\n",
    "X=vectorizer.fit_transform(corpus)\n",
    "true_k = 40\n",
    "\n",
    "# Loads in old model when I first ran this\n",
    "filename = 'review.sav'\n",
    "rev_model = pickle.load(open(filename, 'rb'))\n",
    "\n",
    "# Make new model\n",
    "#rev_model = KMeans(n_clusters=true_k,init='k-means++',max_iter=100,n_init=1)\n",
    "#rev_model.fit(X)\n",
    "\n",
    "# Dumped the model to a pickle file to have consistent model in future\n",
    "filename = 'review.sav'\n",
    "#pickle.dump(rev_model, open(filename, 'wb'))\n",
    "\n",
    "print(X.shape) \n"
   ]
  },
  {
   "cell_type": "code",
   "execution_count": 83,
   "metadata": {},
   "outputs": [
    {
     "data": {
      "text/html": [
       "<div>\n",
       "<style scoped>\n",
       "    .dataframe tbody tr th:only-of-type {\n",
       "        vertical-align: middle;\n",
       "    }\n",
       "\n",
       "    .dataframe tbody tr th {\n",
       "        vertical-align: top;\n",
       "    }\n",
       "\n",
       "    .dataframe thead th {\n",
       "        text-align: right;\n",
       "    }\n",
       "</style>\n",
       "<table border=\"1\" class=\"dataframe\">\n",
       "  <thead>\n",
       "    <tr style=\"text-align: right;\">\n",
       "      <th></th>\n",
       "      <th>review</th>\n",
       "      <th>hotel</th>\n",
       "      <th>cluster</th>\n",
       "    </tr>\n",
       "  </thead>\n",
       "  <tbody>\n",
       "    <tr>\n",
       "      <th>0</th>\n",
       "      <td>We spent 5 nights at the Westin Peachtree over...</td>\n",
       "      <td>The Westin Peachtree Plaza, Atlanta Hotel</td>\n",
       "      <td>25</td>\n",
       "    </tr>\n",
       "    <tr>\n",
       "      <th>1</th>\n",
       "      <td>I want to start my review by saying that it is...</td>\n",
       "      <td>The Westin Peachtree Plaza, Atlanta Hotel</td>\n",
       "      <td>21</td>\n",
       "    </tr>\n",
       "    <tr>\n",
       "      <th>2</th>\n",
       "      <td>This hotel has been our go-to for several year...</td>\n",
       "      <td>The Westin Peachtree Plaza, Atlanta Hotel</td>\n",
       "      <td>21</td>\n",
       "    </tr>\n",
       "    <tr>\n",
       "      <th>3</th>\n",
       "      <td>This hotel was excellent in every way. We had ...</td>\n",
       "      <td>The Westin Peachtree Plaza, Atlanta Hotel</td>\n",
       "      <td>14</td>\n",
       "    </tr>\n",
       "    <tr>\n",
       "      <th>4</th>\n",
       "      <td>The stay was great I we were very disappointed...</td>\n",
       "      <td>The Westin Peachtree Plaza, Atlanta Hotel</td>\n",
       "      <td>33</td>\n",
       "    </tr>\n",
       "  </tbody>\n",
       "</table>\n",
       "</div>"
      ],
      "text/plain": [
       "                                              review  \\\n",
       "0  We spent 5 nights at the Westin Peachtree over...   \n",
       "1  I want to start my review by saying that it is...   \n",
       "2  This hotel has been our go-to for several year...   \n",
       "3  This hotel was excellent in every way. We had ...   \n",
       "4  The stay was great I we were very disappointed...   \n",
       "\n",
       "                                       hotel  cluster  \n",
       "0  The Westin Peachtree Plaza, Atlanta Hotel       25  \n",
       "1  The Westin Peachtree Plaza, Atlanta Hotel       21  \n",
       "2  The Westin Peachtree Plaza, Atlanta Hotel       21  \n",
       "3  The Westin Peachtree Plaza, Atlanta Hotel       14  \n",
       "4  The Westin Peachtree Plaza, Atlanta Hotel       33  "
      ]
     },
     "execution_count": 83,
     "metadata": {},
     "output_type": "execute_result"
    }
   ],
   "source": [
    "## Assigning each review a cluster\n",
    "clusters = pd.DataFrame(columns=['review','hotel','cluster'])\n",
    "views =[]\n",
    "clus = []\n",
    "hote = []\n",
    "for i in range(0,len(df2['review'])):\n",
    "    # Goes through each review, vectorize it, then predict it with our model\n",
    "    rev = df2['review'].iloc[i]\n",
    "    hot = df2['hotel_name'].iloc[i]\n",
    "    Y = vectorizer.transform([rev])\n",
    "    prediction = rev_model.predict(Y)\n",
    "    hote.append(hot)\n",
    "    views.append(rev)\n",
    "    clus.append(prediction)\n",
    "clusters['review'] = views\n",
    "clusters['cluster'] = clus\n",
    "clusters['hotel']=hote\n",
    "clusters['cluster'] = clusters['cluster'].apply(lambda x: x[0])\n",
    "clusters.head()\n"
   ]
  },
  {
   "cell_type": "code",
   "execution_count": 84,
   "metadata": {},
   "outputs": [
    {
     "data": {
      "text/html": [
       "<div>\n",
       "<style scoped>\n",
       "    .dataframe tbody tr th:only-of-type {\n",
       "        vertical-align: middle;\n",
       "    }\n",
       "\n",
       "    .dataframe tbody tr th {\n",
       "        vertical-align: top;\n",
       "    }\n",
       "\n",
       "    .dataframe thead th {\n",
       "        text-align: right;\n",
       "    }\n",
       "</style>\n",
       "<table border=\"1\" class=\"dataframe\">\n",
       "  <thead>\n",
       "    <tr style=\"text-align: right;\">\n",
       "      <th></th>\n",
       "      <th>hotel</th>\n",
       "      <th>cluster</th>\n",
       "      <th>review</th>\n",
       "    </tr>\n",
       "  </thead>\n",
       "  <tbody>\n",
       "    <tr>\n",
       "      <th>0</th>\n",
       "      <td>AC Hotel Atlanta Buckhead at Phipps Plaza</td>\n",
       "      <td>1</td>\n",
       "      <td>3</td>\n",
       "    </tr>\n",
       "    <tr>\n",
       "      <th>1</th>\n",
       "      <td>AC Hotel Atlanta Buckhead at Phipps Plaza</td>\n",
       "      <td>3</td>\n",
       "      <td>2</td>\n",
       "    </tr>\n",
       "    <tr>\n",
       "      <th>2</th>\n",
       "      <td>AC Hotel Atlanta Buckhead at Phipps Plaza</td>\n",
       "      <td>5</td>\n",
       "      <td>2</td>\n",
       "    </tr>\n",
       "    <tr>\n",
       "      <th>3</th>\n",
       "      <td>AC Hotel Atlanta Buckhead at Phipps Plaza</td>\n",
       "      <td>7</td>\n",
       "      <td>4</td>\n",
       "    </tr>\n",
       "    <tr>\n",
       "      <th>4</th>\n",
       "      <td>AC Hotel Atlanta Buckhead at Phipps Plaza</td>\n",
       "      <td>8</td>\n",
       "      <td>1</td>\n",
       "    </tr>\n",
       "  </tbody>\n",
       "</table>\n",
       "</div>"
      ],
      "text/plain": [
       "                                       hotel  cluster  review\n",
       "0  AC Hotel Atlanta Buckhead at Phipps Plaza        1       3\n",
       "1  AC Hotel Atlanta Buckhead at Phipps Plaza        3       2\n",
       "2  AC Hotel Atlanta Buckhead at Phipps Plaza        5       2\n",
       "3  AC Hotel Atlanta Buckhead at Phipps Plaza        7       4\n",
       "4  AC Hotel Atlanta Buckhead at Phipps Plaza        8       1"
      ]
     },
     "execution_count": 84,
     "metadata": {},
     "output_type": "execute_result"
    }
   ],
   "source": [
    "# Grouping by cluster and hotels and having a count of the # of reviews\n",
    "counts = clusters.groupby(['hotel','cluster']).count().reset_index()\n",
    "counts.head()\n"
   ]
  },
  {
   "cell_type": "code",
   "execution_count": 85,
   "metadata": {},
   "outputs": [
    {
     "data": {
      "text/plain": [
       "40"
      ]
     },
     "execution_count": 85,
     "metadata": {},
     "output_type": "execute_result"
    }
   ],
   "source": [
    "# getting max # of review for hotel cluster to be the \"Representative\" of that cluster\n",
    "get_max = pd.DataFrame(counts.groupby(['hotel'])['review'].max()).merge(counts,left_on = 'hotel', right_on = 'hotel', how = 'left')\n",
    "len(get_max['cluster'].unique())\n"
   ]
  },
  {
   "cell_type": "code",
   "execution_count": 86,
   "metadata": {},
   "outputs": [
    {
     "name": "stdout",
     "output_type": "stream",
     "text": [
      "36\n"
     ]
    }
   ],
   "source": [
    "# Final is table with individual hotel and their cluster\n",
    "final = get_max[get_max['review_x']==get_max['review_y']][['hotel','cluster']]\n",
    "final\n",
    "print(len(final['cluster'].unique()))\n",
    "final.to_csv('review_final.csv')"
   ]
  },
  {
   "cell_type": "code",
   "execution_count": 88,
   "metadata": {},
   "outputs": [
    {
     "name": "stdout",
     "output_type": "stream",
     "text": [
      "We stayed here for x2 nights at the end of a recent road tour. The hotel location is excellent and can be reached by MARTA from the airport to the Peachtree station. Our room was on the 27th floor so we had a restricted view of the city, but was clean and comfortable.Great location for access to the Falcons amazing stadium , plusalso the College hall of fame and Coca- Cola world.check out is at 1200 but as we had a later flight we're able to hang on until 1400 which helped significantly.'\n"
     ]
    },
    {
     "data": {
      "text/html": [
       "<div>\n",
       "<style scoped>\n",
       "    .dataframe tbody tr th:only-of-type {\n",
       "        vertical-align: middle;\n",
       "    }\n",
       "\n",
       "    .dataframe tbody tr th {\n",
       "        vertical-align: top;\n",
       "    }\n",
       "\n",
       "    .dataframe thead th {\n",
       "        text-align: right;\n",
       "    }\n",
       "</style>\n",
       "<table border=\"1\" class=\"dataframe\">\n",
       "  <thead>\n",
       "    <tr style=\"text-align: right;\">\n",
       "      <th></th>\n",
       "      <th>0</th>\n",
       "    </tr>\n",
       "  </thead>\n",
       "  <tbody>\n",
       "    <tr>\n",
       "      <th>0</th>\n",
       "      <td>AC Hotel Atlanta Downtown</td>\n",
       "    </tr>\n",
       "    <tr>\n",
       "      <th>1</th>\n",
       "      <td>Embassy Suites by Hilton Atlanta - at Centenni...</td>\n",
       "    </tr>\n",
       "    <tr>\n",
       "      <th>2</th>\n",
       "      <td>Glenn Hotel, Autograph Collection, Atlanta</td>\n",
       "    </tr>\n",
       "    <tr>\n",
       "      <th>3</th>\n",
       "      <td>Hampton Inn &amp; Suites Atlanta - Downtown Hotel</td>\n",
       "    </tr>\n",
       "    <tr>\n",
       "      <th>4</th>\n",
       "      <td>Omni Atlanta Hotel at CNN Center</td>\n",
       "    </tr>\n",
       "    <tr>\n",
       "      <th>5</th>\n",
       "      <td>SpringHill Suites Atlanta Downtown Hotel</td>\n",
       "    </tr>\n",
       "    <tr>\n",
       "      <th>6</th>\n",
       "      <td>The Westin Peachtree Plaza, Atlanta Hotel</td>\n",
       "    </tr>\n",
       "  </tbody>\n",
       "</table>\n",
       "</div>"
      ],
      "text/plain": [
       "                                                   0\n",
       "0                          AC Hotel Atlanta Downtown\n",
       "1  Embassy Suites by Hilton Atlanta - at Centenni...\n",
       "2         Glenn Hotel, Autograph Collection, Atlanta\n",
       "3      Hampton Inn & Suites Atlanta - Downtown Hotel\n",
       "4                   Omni Atlanta Hotel at CNN Center\n",
       "5           SpringHill Suites Atlanta Downtown Hotel\n",
       "6          The Westin Peachtree Plaza, Atlanta Hotel"
      ]
     },
     "execution_count": 88,
     "metadata": {},
     "output_type": "execute_result"
    }
   ],
   "source": [
    "#DEMO with just review \n",
    "\n",
    "test = input()\n",
    "Y = vectorizer.transform([test])\n",
    "prediction = rev_model.predict(Y)\n",
    "pd.DataFrame(final[final['cluster']==prediction[0]]['hotel'].unique())"
   ]
  },
  {
   "cell_type": "markdown",
   "metadata": {},
   "source": [
    "# Hotel Data"
   ]
  },
  {
   "cell_type": "code",
   "execution_count": 56,
   "metadata": {},
   "outputs": [
    {
     "data": {
      "text/html": [
       "<div>\n",
       "<style scoped>\n",
       "    .dataframe tbody tr th:only-of-type {\n",
       "        vertical-align: middle;\n",
       "    }\n",
       "\n",
       "    .dataframe tbody tr th {\n",
       "        vertical-align: top;\n",
       "    }\n",
       "\n",
       "    .dataframe thead th {\n",
       "        text-align: right;\n",
       "    }\n",
       "</style>\n",
       "<table border=\"1\" class=\"dataframe\">\n",
       "  <thead>\n",
       "    <tr style=\"text-align: right;\">\n",
       "      <th></th>\n",
       "      <th>Unnamed: 0</th>\n",
       "      <th>HotelName</th>\n",
       "      <th>HotelURL</th>\n",
       "      <th>BubbleRating out of 5</th>\n",
       "      <th>ReviewCount</th>\n",
       "      <th>Price$</th>\n",
       "      <th>Breakfast included</th>\n",
       "      <th>Free Internet</th>\n",
       "      <th>Free Parking</th>\n",
       "      <th>Room Service</th>\n",
       "      <th>Visit hotel website</th>\n",
       "      <th>Free Wifi</th>\n",
       "      <th>Restaurant</th>\n",
       "      <th>Pool</th>\n",
       "    </tr>\n",
       "  </thead>\n",
       "  <tbody>\n",
       "    <tr>\n",
       "      <th>0</th>\n",
       "      <td>0</td>\n",
       "      <td>Homewood Suites by Hilton Atlanta - Cumberland...</td>\n",
       "      <td>/Hotel_Review-g60898-d223010-Reviews-Homewood_...</td>\n",
       "      <td>4.0</td>\n",
       "      <td>758</td>\n",
       "      <td>179</td>\n",
       "      <td>0</td>\n",
       "      <td>0</td>\n",
       "      <td>1</td>\n",
       "      <td>0</td>\n",
       "      <td>1</td>\n",
       "      <td>1</td>\n",
       "      <td>0</td>\n",
       "      <td>0</td>\n",
       "    </tr>\n",
       "    <tr>\n",
       "      <th>1</th>\n",
       "      <td>1</td>\n",
       "      <td>The Westin Peachtree Plaza, Atlanta</td>\n",
       "      <td>/Hotel_Review-g60898-d114387-Reviews-The_Westi...</td>\n",
       "      <td>4.0</td>\n",
       "      <td>3227</td>\n",
       "      <td>158</td>\n",
       "      <td>0</td>\n",
       "      <td>0</td>\n",
       "      <td>0</td>\n",
       "      <td>0</td>\n",
       "      <td>1</td>\n",
       "      <td>0</td>\n",
       "      <td>1</td>\n",
       "      <td>1</td>\n",
       "    </tr>\n",
       "    <tr>\n",
       "      <th>2</th>\n",
       "      <td>2</td>\n",
       "      <td>Holiday Inn &amp; Suites Atlanta Airport - North</td>\n",
       "      <td>/Hotel_Review-g60898-d86197-Reviews-Holiday_In...</td>\n",
       "      <td>4.5</td>\n",
       "      <td>837</td>\n",
       "      <td>82</td>\n",
       "      <td>0</td>\n",
       "      <td>0</td>\n",
       "      <td>0</td>\n",
       "      <td>0</td>\n",
       "      <td>1</td>\n",
       "      <td>1</td>\n",
       "      <td>0</td>\n",
       "      <td>1</td>\n",
       "    </tr>\n",
       "    <tr>\n",
       "      <th>3</th>\n",
       "      <td>3</td>\n",
       "      <td>Grand Hyatt Atlanta in Buckhead</td>\n",
       "      <td>/Hotel_Review-g60898-d86179-Reviews-Grand_Hyat...</td>\n",
       "      <td>4.5</td>\n",
       "      <td>2322</td>\n",
       "      <td>139</td>\n",
       "      <td>0</td>\n",
       "      <td>0</td>\n",
       "      <td>0</td>\n",
       "      <td>0</td>\n",
       "      <td>1</td>\n",
       "      <td>1</td>\n",
       "      <td>0</td>\n",
       "      <td>1</td>\n",
       "    </tr>\n",
       "    <tr>\n",
       "      <th>4</th>\n",
       "      <td>4</td>\n",
       "      <td>Wingate by Wyndham Atlanta/Buckhead</td>\n",
       "      <td>/Hotel_Review-g60898-d223001-Reviews-Wingate_b...</td>\n",
       "      <td>4.5</td>\n",
       "      <td>2476</td>\n",
       "      <td>119</td>\n",
       "      <td>0</td>\n",
       "      <td>0</td>\n",
       "      <td>1</td>\n",
       "      <td>0</td>\n",
       "      <td>0</td>\n",
       "      <td>1</td>\n",
       "      <td>0</td>\n",
       "      <td>0</td>\n",
       "    </tr>\n",
       "  </tbody>\n",
       "</table>\n",
       "</div>"
      ],
      "text/plain": [
       "   Unnamed: 0                                          HotelName  \\\n",
       "0           0  Homewood Suites by Hilton Atlanta - Cumberland...   \n",
       "1           1                The Westin Peachtree Plaza, Atlanta   \n",
       "2           2       Holiday Inn & Suites Atlanta Airport - North   \n",
       "3           3                    Grand Hyatt Atlanta in Buckhead   \n",
       "4           4                Wingate by Wyndham Atlanta/Buckhead   \n",
       "\n",
       "                                            HotelURL  BubbleRating out of 5  \\\n",
       "0  /Hotel_Review-g60898-d223010-Reviews-Homewood_...                    4.0   \n",
       "1  /Hotel_Review-g60898-d114387-Reviews-The_Westi...                    4.0   \n",
       "2  /Hotel_Review-g60898-d86197-Reviews-Holiday_In...                    4.5   \n",
       "3  /Hotel_Review-g60898-d86179-Reviews-Grand_Hyat...                    4.5   \n",
       "4  /Hotel_Review-g60898-d223001-Reviews-Wingate_b...                    4.5   \n",
       "\n",
       "   ReviewCount  Price$  Breakfast included  Free Internet  Free Parking  \\\n",
       "0          758     179                   0              0             1   \n",
       "1         3227     158                   0              0             0   \n",
       "2          837      82                   0              0             0   \n",
       "3         2322     139                   0              0             0   \n",
       "4         2476     119                   0              0             1   \n",
       "\n",
       "   Room Service  Visit hotel website  Free Wifi  Restaurant  Pool  \n",
       "0             0                    1          1           0     0  \n",
       "1             0                    1          0           1     1  \n",
       "2             0                    1          1           0     1  \n",
       "3             0                    1          1           0     1  \n",
       "4             0                    0          1           0     0  "
      ]
     },
     "execution_count": 56,
     "metadata": {},
     "output_type": "execute_result"
    }
   ],
   "source": [
    "## Reading the file from *.csv\n",
    "df_specs = pd.read_csv(\"TA_Hotel_Specs.csv\") \n",
    "df_specs.head()"
   ]
  },
  {
   "cell_type": "code",
   "execution_count": 57,
   "metadata": {},
   "outputs": [],
   "source": [
    "# Drop random column\n",
    "df_specs1 = df_specs.drop(['Unnamed: 0'],axis = 1)\n",
    "# Drop all columns not numeric\n",
    "df_quant = df_specs1.iloc[:,2:]\n",
    "# Drop Price \n",
    "df_quant.drop('Price$',axis=1,inplace=True)"
   ]
  },
  {
   "cell_type": "code",
   "execution_count": 58,
   "metadata": {},
   "outputs": [],
   "source": [
    "from sklearn.preprocessing import StandardScaler  # For scaling dataset\n",
    "#Scaling of data\n",
    "ss = StandardScaler()\n",
    "scaled_feature = ss.fit_transform(df_quant.values)"
   ]
  },
  {
   "cell_type": "code",
   "execution_count": 59,
   "metadata": {},
   "outputs": [],
   "source": [
    "df_scaled_quant = pd.DataFrame(scaled_feature,index = df_quant.index, columns = df_quant.columns)\n"
   ]
  },
  {
   "cell_type": "code",
   "execution_count": 31,
   "metadata": {},
   "outputs": [
    {
     "name": "stdout",
     "output_type": "stream",
     "text": [
      "10\n",
      "20\n",
      "30\n",
      "40\n",
      "50\n",
      "60\n",
      "70\n",
      "80\n",
      "90\n",
      "100\n"
     ]
    }
   ],
   "source": [
    "# Checking again for the elbow\n",
    "range_n_clusters = range(10, 101, 10)\n",
    "from sklearn.cluster import KMeans\n",
    "sse = []\n",
    "for n_clusters in range_n_clusters:\n",
    "    kmeans_model = KMeans(n_clusters=n_clusters).fit(df_scaled_quant)\n",
    "    #sse[n_clusters-2] = kmeans_model.inertia_\n",
    "    sse.append(kmeans_model.inertia_)\n",
    "    print(n_clusters)"
   ]
  },
  {
   "cell_type": "code",
   "execution_count": 80,
   "metadata": {},
   "outputs": [
    {
     "data": {
      "text/plain": [
       "Text(0.5,0.98,'How to choose the Number of clusters for KMeans')"
      ]
     },
     "execution_count": 80,
     "metadata": {},
     "output_type": "execute_result"
    },
    {
     "data": {
      "image/png": "[encoded data removed]",
      "text/plain": [
       "<Figure size 432x288 with 1 Axes>"
      ]
     },
     "metadata": {
      "needs_background": "light"
     },
     "output_type": "display_data"
    }
   ],
   "source": [
    "import matplotlib.pyplot as plt\n",
    "from matplotlib.collections import EventCollection\n",
    "fig = plt.plot(range_n_clusters,sse,'-r')\n",
    "plt.xlabel('Number of Clusters')\n",
    "plt.ylabel('silhouette score')\n",
    "plt.suptitle('How to choose the Number of clusters for KMeans')\n"
   ]
  },
  {
   "cell_type": "code",
   "execution_count": 63,
   "metadata": {},
   "outputs": [
    {
     "name": "stderr",
     "output_type": "stream",
     "text": [
      "/anaconda3/lib/python3.7/site-packages/pandas/core/indexing.py:189: SettingWithCopyWarning: \n",
      "A value is trying to be set on a copy of a slice from a DataFrame\n",
      "\n",
      "See the caveats in the documentation: http://pandas.pydata.org/pandas-docs/stable/indexing.html#indexing-view-versus-copy\n",
      "  self._setitem_with_indexer(indexer, value)\n"
     ]
    }
   ],
   "source": [
    "from sklearn.cluster import KMeans\n",
    "df_specs['cluster'] = np.nan\n",
    "\n",
    "#HOW TO RELOAD MODEL from before\n",
    "filename = 'hotel.sav'\n",
    "model = pickle.load(open(filename, 'rb'))\n",
    "\n",
    "#model = KMeans(n_clusters=30,init='k-means++',max_iter=100,n_init=1)\n",
    "model.fit(df_scaled_quant)\n",
    "model.cluster_centers_\n",
    "\n",
    "\n",
    "#pickle.dump(model, open(filename, 'wb'))\n",
    "\n",
    "for i in range(0,len(df_scaled_quant)):\n",
    "    predictions = model.predict([df_scaled_quant.iloc[i]])\n",
    "    df_specs['cluster'].iloc[i] = predictions\n"
   ]
  },
  {
   "cell_type": "code",
   "execution_count": 72,
   "metadata": {},
   "outputs": [],
   "source": [
    "df2['name_match'] =df2['hotel_name'].apply(lambda x: x[:-6] if x[-6:]== ' Hotel' else x)\n",
    "df_specs['name_match']=df_specs['HotelName'].apply(lambda x: x[:-6] if x[-6:]== ' Hotel' else x)\n",
    "df2.to_csv('demo_df2.csv')\n",
    "df_specs.to_csv('demo_df_specs.csv')"
   ]
  },
  {
   "cell_type": "code",
   "execution_count": 66,
   "metadata": {},
   "outputs": [],
   "source": [
    "def demo(rating,popularity,breakfast,internet,parking,room_service,hotel_web,\n",
    "        wifi,resturant,pool,test):\n",
    "    \"\"\"\n",
    "    This method is the demo, it'll require the inputs for the hotel and a review\n",
    "    \"\"\"\n",
    "    # Makes sure same vectorization happens to input review as other review\n",
    "    Y = vectorizer.transform([test])\n",
    "    # Makes a prediction which cluster it belongs in \n",
    "    prediction = rev_model.predict(Y)\n",
    "    # Saves all hotel in the same cluster to rev\n",
    "    rev = pd.DataFrame(final[final['cluster']==prediction[0]]['hotel'].unique(),columns=['HotelName'])\n",
    "    # Makes a prediction which cluster for the hotel data\n",
    "    prediction = model.predict([[rating,popularity,breakfast,internet,parking,room_service,hotel_web,wifi,resturant,pool]])\n",
    "    # Saves all hotel in the same cluster to new\n",
    "    new = df_specs[df_specs['cluster']==prediction[0]][['HotelName','Price$']].sort_values('Price$')\n",
    "    # Now going to merge the two tables and bring in the Prices for these hotels\n",
    "    hotel_matching = new.merge(df_specs[['HotelName','name_match']])[['name_match','Price$']]\n",
    "    review_matching = rev.merge(df2[['hotel_name','name_match']],\n",
    "          how='left',left_on='HotelName',right_on = 'hotel_name'\n",
    "         ).drop_duplicates('HotelName').merge(\n",
    "            df_specs[['name_match','Price$']],on='name_match'\n",
    "            )[['name_match','Price$']]\n",
    "    # Concat tables, then drop duplicates \n",
    "    results = pd.concat([hotel_matching,review_matching]).drop_duplicates('name_match').reset_index().iloc[:,1:]\n",
    "    # Sorted by price, low to high\n",
    "    results = results.rename(columns={'name_match':'Hotel Name','Price$':'Price'}).sort_values('Price').set_index('Hotel Name')\n",
    "    # Returns a table\n",
    "    return results\n"
   ]
  },
  {
   "cell_type": "markdown",
   "metadata": {},
   "source": [
    "# Demo"
   ]
  },
  {
   "cell_type": "code",
   "execution_count": 99,
   "metadata": {},
   "outputs": [
    {
     "name": "stdout",
     "output_type": "stream",
     "text": [
      "Rating [0,1]: 1\n",
      "Popular? [0,1]: 1\n",
      "\n",
      " Yes = 1, No = 0\n",
      "\n",
      "Breakfast: 1\n",
      "Internet: 0\n",
      "Parking: 1\n",
      "Room Service: 1\n",
      "Hotel Website: 1\n",
      "WiFi: 1\n",
      "Resturant: 0\n",
      "Pool: 0\n",
      "\n",
      "Now Input your Review\n",
      "\n",
      "\n",
      "Review: Sucks!\n"
     ]
    },
    {
     "data": {
      "text/html": [
       "<div>\n",
       "<style scoped>\n",
       "    .dataframe tbody tr th:only-of-type {\n",
       "        vertical-align: middle;\n",
       "    }\n",
       "\n",
       "    .dataframe tbody tr th {\n",
       "        vertical-align: top;\n",
       "    }\n",
       "\n",
       "    .dataframe thead th {\n",
       "        text-align: right;\n",
       "    }\n",
       "</style>\n",
       "<table border=\"1\" class=\"dataframe\">\n",
       "  <thead>\n",
       "    <tr style=\"text-align: right;\">\n",
       "      <th></th>\n",
       "      <th>Price</th>\n",
       "    </tr>\n",
       "    <tr>\n",
       "      <th>Hotel Name</th>\n",
       "      <th></th>\n",
       "    </tr>\n",
       "  </thead>\n",
       "  <tbody>\n",
       "    <tr>\n",
       "      <th>Holiday Inn Express &amp; Suites Atlanta Airport West - Camp Creek</th>\n",
       "      <td>82</td>\n",
       "    </tr>\n",
       "    <tr>\n",
       "      <th>La Quinta Inn &amp; Suites Atlanta Ballpark/Galleria</th>\n",
       "      <td>89</td>\n",
       "    </tr>\n",
       "    <tr>\n",
       "      <th>Crowne Plaza Atlanta - Midtown</th>\n",
       "      <td>105</td>\n",
       "    </tr>\n",
       "    <tr>\n",
       "      <th>Drury Inn &amp; Suites Atlanta Airport</th>\n",
       "      <td>110</td>\n",
       "    </tr>\n",
       "    <tr>\n",
       "      <th>La Quinta Inn &amp; Suites Atlanta Airport North</th>\n",
       "      <td>114</td>\n",
       "    </tr>\n",
       "    <tr>\n",
       "      <th>Hilton Garden Inn Atlanta NW/Wildwood</th>\n",
       "      <td>117</td>\n",
       "    </tr>\n",
       "    <tr>\n",
       "      <th>Hampton Inn &amp; Suites Atlanta Perimeter Dunwoody</th>\n",
       "      <td>118</td>\n",
       "    </tr>\n",
       "    <tr>\n",
       "      <th>Homewood Suites by Hilton Atlanta Airport North</th>\n",
       "      <td>129</td>\n",
       "    </tr>\n",
       "    <tr>\n",
       "      <th>Atlanta Marriott Century Center/Emory Area</th>\n",
       "      <td>139</td>\n",
       "    </tr>\n",
       "    <tr>\n",
       "      <th>Hampton Inn &amp; Suites Atlanta Buckhead Place</th>\n",
       "      <td>142</td>\n",
       "    </tr>\n",
       "    <tr>\n",
       "      <th>Hampton Inn Atlanta - Northlake</th>\n",
       "      <td>154</td>\n",
       "    </tr>\n",
       "    <tr>\n",
       "      <th>Country Inn &amp; Suites By Radisson, Atlanta/Galleria Ballpark, GA</th>\n",
       "      <td>156</td>\n",
       "    </tr>\n",
       "    <tr>\n",
       "      <th>Hilton Atlanta</th>\n",
       "      <td>176</td>\n",
       "    </tr>\n",
       "    <tr>\n",
       "      <th>Hampton Inn &amp; Suites Atlanta - Galleria</th>\n",
       "      <td>185</td>\n",
       "    </tr>\n",
       "  </tbody>\n",
       "</table>\n",
       "</div>"
      ],
      "text/plain": [
       "                                                    Price\n",
       "Hotel Name                                               \n",
       "Holiday Inn Express & Suites Atlanta Airport We...     82\n",
       "La Quinta Inn & Suites Atlanta Ballpark/Galleria       89\n",
       "Crowne Plaza Atlanta - Midtown                        105\n",
       "Drury Inn & Suites Atlanta Airport                    110\n",
       "La Quinta Inn & Suites Atlanta Airport North          114\n",
       "Hilton Garden Inn Atlanta NW/Wildwood                 117\n",
       "Hampton Inn & Suites Atlanta Perimeter Dunwoody       118\n",
       "Homewood Suites by Hilton Atlanta Airport North       129\n",
       "Atlanta Marriott Century Center/Emory Area            139\n",
       "Hampton Inn & Suites Atlanta Buckhead Place           142\n",
       "Hampton Inn Atlanta - Northlake                       154\n",
       "Country Inn & Suites By Radisson, Atlanta/Galle...    156\n",
       "Hilton Atlanta                                        176\n",
       "Hampton Inn & Suites Atlanta - Galleria               185"
      ]
     },
     "execution_count": 99,
     "metadata": {},
     "output_type": "execute_result"
    }
   ],
   "source": [
    "rating = float(input(\"Rating [0,1]: \"))\n",
    "popularity = float(input(\"Popular? [0,1]: \"))\n",
    "print(\"\\n Yes = 1, No = 0\\n\")\n",
    "breakfast = float(input(\"Breakfast: \"))\n",
    "internet = float(input(\"Internet: \"))\n",
    "parking = float(input(\"Parking: \"))\n",
    "room_service = float(input(\"Room Service: \"))\n",
    "hotel_web = float(input(\"Hotel Website: \"))\n",
    "wifi = float(input(\"WiFi: \"))\n",
    "resturant = float(input(\"Resturant: \"))\n",
    "pool = float(input(\"Pool: \"))\n",
    "print(\"\\nNow Input your Review\\n\")\n",
    "test = input(\"\\nReview: \")\n",
    "\n",
    "demo(rating,popularity,breakfast,internet, parking,room_service,\n",
    "    hotel_web,wifi,resturant,pool,test)"
   ]
  },
  {
   "cell_type": "code",
   "execution_count": null,
   "metadata": {},
   "outputs": [],
   "source": []
  },
  {
   "cell_type": "code",
   "execution_count": null,
   "metadata": {},
   "outputs": [],
   "source": []
  }
 ],
 "metadata": {
  "kernelspec": {
   "display_name": "Python 3",
   "language": "python",
   "name": "python3"
  },
  "language_info": {
   "codemirror_mode": {
    "name": "ipython",
    "version": 3
   },
   "file_extension": ".py",
   "mimetype": "text/x-python",
   "name": "python",
   "nbconvert_exporter": "python",
   "pygments_lexer": "ipython3",
   "version": "3.6.5"
  }
 },
 "nbformat": 4,
 "nbformat_minor": 2
}
